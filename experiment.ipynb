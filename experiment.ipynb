{
 "cells": [
  {
   "cell_type": "code",
   "execution_count": null,
   "metadata": {},
   "outputs": [],
   "source": [
    "import matplotlib.pyplot as plt\n",
    "import numpy as np\n",
    "import pandas as pd\n",
    "import json\n",
    "from scipy import stats\n",
    "import measurements_methods as m\n",
    "import warnings\n",
    "warnings.filterwarnings(\"ignore\")"
   ]
  },
  {
   "cell_type": "code",
   "execution_count": null,
   "metadata": {},
   "outputs": [],
   "source": [
    "file_path = './Data/models_results_crime_final.csv'\n",
    "file_path2 = './Data/models_results_law_school_final.csv'\n",
    "file_path3 = './Data/models_results_insurance_final.csv'\n",
    "df_crim = pd.read_csv(file_path)\n",
    "df_law = pd.read_csv(file_path2)\n",
    "df_insurance = pd.read_csv(file_path3)"
   ]
  },
  {
   "cell_type": "code",
   "execution_count": null,
   "metadata": {},
   "outputs": [],
   "source": [
    "cols = list(df_law.columns)\n",
    "cols.remove('Linear Regression')\n",
    "cols.insert(13,'Linear_Regression')"
   ]
  },
  {
   "cell_type": "code",
   "execution_count": null,
   "metadata": {},
   "outputs": [],
   "source": [
    "folders = ['dict_law','dict_crime','dict_insurance']\n",
    "df_list_corr = []\n",
    "for folder in folders:  \n",
    "    folder_path = f\"./Data/{folder}/\"\n",
    "    classifiers = ['lr' ,'Lasso','Ridge', 'KLR_KLR_gaussian', 'KLR_KLR_polynomial']\n",
    "\n",
    "    df_temp = pd.DataFrame(columns=classifiers,index=cols[:-2])\n",
    "    for classifier in classifiers:\n",
    "        indep_list = []\n",
    "\n",
    "        for model in cols[:-2]:\n",
    "            path_1 = f'{folder_path}/{classifier}/{model}.json'\n",
    "            metric = 'independence'\n",
    "            with open(path_1, \"r\") as file:\n",
    "                data1 = json.load(file)\n",
    "            porb1 = np.array(data1[metric]['indep'])\n",
    "\n",
    "            threshold = 0.99\n",
    "            porb1[porb1>threshold]=threshold\n",
    "        \n",
    "            r_ind_1 = ((data1[metric]['n'] - data1[metric]['a_sum']) / data1[metric]['a_sum']) * (porb1 / (1 - porb1)).mean()\n",
    "            \n",
    "            # Ind value after threshold\n",
    "            #print('Indep value of cacluclated     :',r_ind_1 )\n",
    "\n",
    "            # Orgnial ind value\n",
    "            indep_list.append(data1[metric]['indep'])\n",
    "            \n",
    "        df_temp[classifier] = indep_list\n",
    "    df_list_corr.append(df_temp)"
   ]
  },
  {
   "cell_type": "code",
   "execution_count": null,
   "metadata": {},
   "outputs": [],
   "source": [
    "m.spearman_correlation_with_significance(df_list_corr)"
   ]
  },
  {
   "cell_type": "code",
   "execution_count": null,
   "metadata": {},
   "outputs": [],
   "source": [
    "m.kendall_correlation_with_significance(df_list_corr)"
   ]
  },
  {
   "cell_type": "code",
   "execution_count": null,
   "metadata": {},
   "outputs": [],
   "source": [
    "# synthetic data generation\n",
    "import numpy as np\n",
    "import pandas as pd\n",
    "from scipy.stats import norm\n",
    "\n",
    "mean = 0\n",
    "std_dev = 1\n",
    "size = 500\n",
    "target_values_class_0 = np.zeros(size, dtype=int)\n",
    "data_protected = norm.rvs(loc=0, scale=std_dev, size=size)\n",
    "\n",
    "while mean < 5 :\n",
    "    data_privileged = norm.rvs(loc=mean, scale=std_dev, size=size)\n",
    "    target_values_class_1 = np.ones(size, dtype=int)\n",
    "\n",
    "    regression_values = np.concatenate([data_protected, data_privileged])\n",
    "    target_values = np.concatenate([target_values_class_0, target_values_class_1])\n",
    "    indices = np.arange(1000)\n",
    "    np.random.shuffle(indices)\n",
    "    \n",
    "    synthetic_data = pd.DataFrame({\n",
    "        \"Regression_Value\": regression_values[indices],\n",
    "        \"Target\": target_values[indices]\n",
    "    })\n",
    "    synthetic_data.to_csv(f'./Data/mean_{int(mean*10)}.csv', index=False)\n",
    "    mean += 0.1\n",
    "\n",
    "\n",
    "\n"
   ]
  }
 ],
 "metadata": {
  "kernelspec": {
   "display_name": "Python 3",
   "language": "python",
   "name": "python3"
  },
  "language_info": {
   "codemirror_mode": {
    "name": "ipython",
    "version": 3
   },
   "file_extension": ".py",
   "mimetype": "text/x-python",
   "name": "python",
   "nbconvert_exporter": "python",
   "pygments_lexer": "ipython3",
   "version": "3.9.6"
  }
 },
 "nbformat": 4,
 "nbformat_minor": 2
}
